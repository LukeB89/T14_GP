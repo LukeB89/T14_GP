{
 "cells": [
  {
   "cell_type": "code",
   "execution_count": 2,
   "metadata": {},
   "outputs": [],
   "source": [
    "# Set up libraries\n",
    "import pandas as pd\n",
    "import numpy as np\n",
    "import pickle\n",
    "from sklearn.linear_model import LinearRegression\n",
    "from sqlalchemy import create_engine\n",
    "from configparser import ConfigParser\n",
    "from datetime import datetime, timedelta"
   ]
  },
  {
   "cell_type": "code",
   "execution_count": 3,
   "metadata": {},
   "outputs": [
    {
     "data": {
      "text/plain": [
       "<sqlalchemy.engine.base.Connection at 0x21016c8d448>"
      ]
     },
     "execution_count": 3,
     "metadata": {},
     "output_type": "execute_result"
    }
   ],
   "source": [
    "# Configure the connection\n",
    "config = ConfigParser()\n",
    "config.read(\"config.ini\")\n",
    "options = config[\"DataBase\"]\n",
    "\n",
    "engine = create_engine(\"mysql://\" + options[\"user\"] + \":\" + options[\"passwd\"] + \"@\" + options[\"host\"] + \"/\" + options[\"database\"])\n",
    "engine.connect()"
   ]
  },
  {
   "cell_type": "code",
   "execution_count": 4,
   "metadata": {},
   "outputs": [],
   "source": [
    "station = \"SELECT number FROM dublinbikes.static_data\"\n",
    "stat_df = pd.read_sql(station,engine)"
   ]
  },
  {
   "cell_type": "code",
   "execution_count": 10,
   "metadata": {},
   "outputs": [],
   "source": [
    "for station in stat_df.number:\n",
    "    # Set up the SQL command and turn into dataframe\n",
    "    bikes_data = \"\"\"SELECT bd.number, bd.last_update, bd.available_bikes, wa.weather_station\n",
    "                FROM dublinbikes.bike_weather_assoc wa, dublinbikes.dynamic_data bd\n",
    "                WHERE bd.number=wa.bike_station_id and bd.number = {} and bd.last_update >= 1584316800000;\"\"\".format(station)\n",
    "    bikes_df = pd.read_sql(bikes_data, engine)\n",
    "    weather_data = \"SELECT name, weather_id, main_temp, main_humidity, wind_speed, dt FROM dublinbikes.weather_dynamic WHERE name = '{}';\".format(bikes_df.weather_station[0])\n",
    "    weather_df = pd.read_sql(weather_data, engine)\n",
    "    ## cleaning bikes data\n",
    "    # converting 'last_update' enties from 13 digits to the required 10\n",
    "    for i in range(bikes_df.shape[0]):\n",
    "        convert = str(bikes_df['last_update'][i])\n",
    "        if len(convert) > 10:\n",
    "            bikes_df.at[i,'last_update'] = int(convert[:10])\n",
    "    # removing duplicates\n",
    "    bikes_df = bikes_df.drop_duplicates()\n",
    "    bikes_df = bikes_df.reset_index(drop=True)\n",
    "    # convert update to datetime\n",
    "    bikes_df['last_update'] = bikes_df['last_update'].apply(lambda x: datetime.fromtimestamp(x))\n",
    "    # adding day of the week column\n",
    "    bikes_df.insert(2, 'day_of_week', 0)\n",
    "    bikes_df['day_of_week'] = bikes_df['last_update'].apply(lambda x: x.dayofweek )\n",
    "    bikes_df.insert(2, 'hour_of_day', 0)\n",
    "    bikes_df['hour_of_day'] = bikes_df['last_update'].apply(lambda x: x.hour )\n",
    "    ## cleaning weather data\n",
    "    # removing duplicates\n",
    "    weather_df = weather_df.drop_duplicates()\n",
    "    weather_df = weather_df.reset_index(drop=True)\n",
    "    # convert update to datetime\n",
    "    weather_df['dt'] = weather_df['dt'].apply(lambda x: datetime.fromtimestamp(x))\n",
    "    ## creating the new combined table with default values\n",
    "    combined_df = bikes_df\n",
    "    # space for weather data\n",
    "    combined_df = combined_df.assign(weather_id=0, main_temp=0, main_humidity=0,wind_speed=0, weather_time=datetime.fromtimestamp(1))\n",
    "    # space for one hot encoding\n",
    "    combined_df = combined_df.assign(d1=0,d2=0,d3=0,h1=0,h2=0,h3=0,h4=0,h5=0)\n",
    "    ## joing both tables based on closest weather time(+- 6 mins)\n",
    "    # start by removing rows that are dated before the earliest date time of the weather data\n",
    "    combined_df = combined_df[combined_df.last_update>= (weather_df.dt[0] - timedelta(minutes = 10) )]\n",
    "    combined_df = combined_df.reset_index(drop=True)\n",
    "    # combine the closest weather date row with the corrisponding bike row \n",
    "    w_count = 0\n",
    "    for i in range(combined_df.shape[0]):\n",
    "        # current date to check against\n",
    "        c_date = combined_df.last_update[i]\n",
    "        # used in tracking the last timedelta checked\n",
    "        try:\n",
    "            time_deltaL = abs(c_date - weather_df.dt[w_count+1])\n",
    "        except:\n",
    "            time_deltaL = abs(c_date - weather_df.dt[w_count])\n",
    "        # used in tracking the best time delta in the loop\n",
    "        best = 0\n",
    "        # check the next rows for as long as the time\n",
    "        for c in range(1, weather_df.shape[0]-w_count):\n",
    "            # the current best time delta bike_date-weather_date (closest weather date available)\n",
    "            time_deltaC = abs(c_date - weather_df.dt[w_count+best])\n",
    "            # the next time delta controlled by loop\n",
    "            time_deltaN = abs(c_date - weather_df.dt[w_count+c])\n",
    "            # if current best td < next td (next row)\n",
    "            if time_deltaC < time_deltaN:\n",
    "                # do nothing\n",
    "                pass\n",
    "            else:\n",
    "                # make best this row\n",
    "                best = c\n",
    "            # if the current next td is bigger than the last loops td\n",
    "            if time_deltaN > time_deltaL:\n",
    "                # exit the loop and prevent going through every itereation\n",
    "                # e.g if the best was updated on the last loop but this loop has\n",
    "                # a bigger td then exit as the ones that follow will keep getting bigger\n",
    "                break\n",
    "            else:\n",
    "                # update last td\n",
    "                time_deltaL = time_deltaN\n",
    "        # update the row count on the weather\n",
    "        w_count += best\n",
    "        # populate current row with wether data\n",
    "        combined_df.at[i,'weather_id'] = weather_df.weather_id[w_count]\n",
    "        combined_df.at[i,'main_temp'] = weather_df.main_temp[w_count]\n",
    "        combined_df.at[i,'main_humidity'] = weather_df.main_humidity[w_count]\n",
    "        combined_df.at[i,'wind_speed'] = weather_df.wind_speed[w_count]\n",
    "        combined_df.at[i,'weather_time'] = weather_df.dt[w_count]\n",
    "        # populate the current row with OHE data from day and hour\n",
    "        day_bin = '{0:03b}'.format(combined_df.day_of_week[i])\n",
    "        hour_bin = '{0:05b}'.format(combined_df.hour_of_day[i])\n",
    "        combined_df.at[i,'d1'] = int(day_bin[-1])\n",
    "        combined_df.at[i,'d2'] = int(day_bin[-2])\n",
    "        combined_df.at[i,'d3'] = int(day_bin[-3])\n",
    "        combined_df.at[i,'h1'] = int(hour_bin[-1])\n",
    "        combined_df.at[i,'h2'] = int(hour_bin[-2])\n",
    "        combined_df.at[i,'h3'] = int(hour_bin[-3])\n",
    "        combined_df.at[i,'h4'] = int(hour_bin[-4])\n",
    "        combined_df.at[i,'h5'] = int(hour_bin[-5])\n",
    "    ## preparing data\n",
    "    cont_features = ['weather_id', 'main_temp', 'main_humidity','wind_speed','d1','d2','d3','h1','h2','h3','h4','h5']\n",
    "    features = combined_df[cont_features]\n",
    "    target = combined_df.available_bikes\n",
    "    # use all of the data to build the model for all future predictions\n",
    "    hour_day_linreg = LinearRegression().fit(features, target)\n",
    "    with open('models/dBikePredictCovData_station_{}.pkl'.format(station), 'wb') as handle:\n",
    "        pickle.dump(hour_day_linreg, handle, pickle.HIGHEST_PROTOCOL)\n"
   ]
  },
  {
   "cell_type": "code",
   "execution_count": null,
   "metadata": {},
   "outputs": [],
   "source": []
  }
 ],
 "metadata": {
  "kernelspec": {
   "display_name": "Python 3",
   "language": "python",
   "name": "python3"
  },
  "language_info": {
   "codemirror_mode": {
    "name": "ipython",
    "version": 3
   },
   "file_extension": ".py",
   "mimetype": "text/x-python",
   "name": "python",
   "nbconvert_exporter": "python",
   "pygments_lexer": "ipython3",
   "version": "3.7.7"
  }
 },
 "nbformat": 4,
 "nbformat_minor": 4
}
