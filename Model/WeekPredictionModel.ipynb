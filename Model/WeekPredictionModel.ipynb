{
 "cells": [
  {
   "cell_type": "code",
   "execution_count": 1,
   "metadata": {},
   "outputs": [
    {
     "name": "stderr",
     "output_type": "stream",
     "text": [
      "\n",
      "Bad key \"text.kerning_factor\" on line 4 in\n",
      "C:\\Users\\HOME\\Anaconda3\\envs\\SEGP\\lib\\site-packages\\matplotlib\\mpl-data\\stylelib\\_classic_test_patch.mplstyle.\n",
      "You probably need to get an updated matplotlibrc file from\n",
      "https://github.com/matplotlib/matplotlib/blob/v3.1.3/matplotlibrc.template\n",
      "or from the matplotlib source distribution\n"
     ]
    }
   ],
   "source": [
    "# Set up libraries\n",
    "import pandas as pd\n",
    "import numpy as np\n",
    "from sklearn.linear_model import LinearRegression\n",
    "from sqlalchemy import create_engine\n",
    "from configparser import ConfigParser\n",
    "from datetime import datetime\n",
    "import matplotlib.pyplot as plt\n",
    "import matplotlib.patches as mpatches\n",
    "from sklearn.model_selection import train_test_split\n",
    "from sklearn import metrics\n",
    "from sklearn.model_selection import cross_validate\n",
    "from sklearn.model_selection import cross_val_score "
   ]
  },
  {
   "cell_type": "code",
   "execution_count": 2,
   "metadata": {},
   "outputs": [
    {
     "data": {
      "text/plain": [
       "<sqlalchemy.engine.base.Connection at 0x1de248163c8>"
      ]
     },
     "execution_count": 2,
     "metadata": {},
     "output_type": "execute_result"
    }
   ],
   "source": [
    "# Configure the connection\n",
    "config = ConfigParser()\n",
    "config.read(\"config.ini\")\n",
    "options = config[\"DataBase\"]\n",
    "\n",
    "engine = create_engine(\"mysql://\" + options[\"user\"] + \":\" + options[\"passwd\"] + \"@\" + options[\"host\"] + \"/\" + options[\"database\"])\n",
    "engine.connect()"
   ]
  },
  {
   "cell_type": "code",
   "execution_count": 3,
   "metadata": {},
   "outputs": [],
   "source": [
    "station = \"SELECT number FROM dublinbikes.static_data\"\n",
    "stat_df = pd.read_sql(station,engine)"
   ]
  },
  {
   "cell_type": "code",
   "execution_count": 15,
   "metadata": {},
   "outputs": [],
   "source": [
    "for station in stat_df.number:\n",
    "    # Set up the SQL command and turn into dataframe\n",
    "    station_data = \"SELECT * FROM dublinbikes.dynamic_data WHERE number = {}\".format(station)\n",
    "    sql_df = pd.read_sql(station_data,engine)\n",
    "    ## cleaning data\n",
    "    # converting 'last_update' enties from 13 digits to the required 10\n",
    "    for i in range(sql_df.shape[0]):\n",
    "        convert = str(sql_df['last_update'][i])\n",
    "        if len(convert) > 10:\n",
    "            sql_df.at[i,'last_update'] = int(convert[:10])\n",
    "    # removing duplicates\n",
    "    sql_df = sql_df.drop_duplicates()\n",
    "    sql_df = sql_df.reset_index(drop=True)\n",
    "    # convert update to datetime\n",
    "    sql_df['last_update'] = sql_df['last_update'].apply(lambda x: datetime.fromtimestamp(x))\n",
    "    # adding day of the week column\n",
    "    sql_df.insert(2, 'day_of_week', 0)\n",
    "    sql_df['day_of_week'] = sql_df['last_update'].apply(lambda x: x.dayofweek )\n",
    "    # remove lines of repeated data\n",
    "    r_day, r_stand, r_bike = 0,0,0\n",
    "    clean_sql_df = pd.DataFrame()\n",
    "    for i in range(sql_df.shape[0]):\n",
    "        c_day = sql_df['day_of_week'][i]\n",
    "        c_stand = sql_df['available_bike_stands'][i]\n",
    "        c_bike = sql_df['available_bikes'][i]\n",
    "        if r_day == c_day and r_stand == c_stand and r_bike == c_bike:\n",
    "            continue\n",
    "        else:\n",
    "            r_day, r_stand, r_bike = c_day, c_stand, c_bike\n",
    "            clean_sql_df = clean_sql_df.append([sql_df.iloc[i]])\n",
    "    clean_sql_df = clean_sql_df.reset_index(drop=True)\n",
    "    ## preparing data\n",
    "    usage_data = pd.DataFrame(columns=['day_of_week', 'usage'])\n",
    "    r_day,r_count = 0,0\n",
    "    for i in range(clean_sql_df.shape[0]):\n",
    "        c_day = clean_sql_df['day_of_week'][i]\n",
    "        date = clean_sql_df['last_update'][i]\n",
    "        if date.month == 3 and date.day > 15:\n",
    "            usage_data.loc[i] = [r_day] + [r_count]\n",
    "            break\n",
    "        if r_day != c_day and r_count == 0:\n",
    "            r_day = c_day\n",
    "            r_count += 1\n",
    "        elif r_day != c_day and r_count > 0:\n",
    "            usage_data.loc[i] = [r_day] + [r_count]\n",
    "            r_day = c_day\n",
    "            r_count = 1\n",
    "        elif r_day == c_day:\n",
    "            r_count += 1\n",
    "        else:\n",
    "            print(\"Something Odd in the Data {} {} {}\".format(r_day,r_count,c_day))\n",
    "    usage_data = usage_data.reset_index(drop=True)\n",
    "    usage_data.to_csv ('stat_{}_predict.csv'.format(station), index = False, header=True)\n",
    "    # splinting for individual predictions\n",
    "    df_0 = pd.DataFrame()\n",
    "    df_1 = pd.DataFrame()\n",
    "    df_2 = pd.DataFrame()\n",
    "    df_3 = pd.DataFrame()\n",
    "    df_4 = pd.DataFrame()\n",
    "    df_5 = pd.DataFrame()\n",
    "    df_6 = pd.DataFrame()\n",
    "    for i in range(usage_data.shape[0]):\n",
    "        if usage_data['day_of_week'][i] == 0:\n",
    "            df_0 = df_0.append([usage_data.iloc[i]])\n",
    "        if usage_data['day_of_week'][i] == 1:\n",
    "            df_1 = df_1.append([usage_data.iloc[i]])\n",
    "        if usage_data['day_of_week'][i] == 2:\n",
    "            df_2 = df_2.append([usage_data.iloc[i]])\n",
    "        if usage_data['day_of_week'][i] == 3:\n",
    "            df_3 = df_3.append([usage_data.iloc[i]])\n",
    "        if usage_data['day_of_week'][i] == 4:\n",
    "            df_4 = df_4.append([usage_data.iloc[i]])\n",
    "        if usage_data['day_of_week'][i] == 5:\n",
    "            df_5 = df_5.append([usage_data.iloc[i]])\n",
    "        if usage_data['day_of_week'][i] == 6:\n",
    "            df_6 = df_6.append([usage_data.iloc[i]])\n",
    "    cont_features = ['day_of_week']\n",
    "    X0 = df_0[cont_features]\n",
    "    y0 = df_0.usage\n",
    "    linreg0 = LinearRegression().fit(X0, y0)\n",
    "\n",
    "    X1 = df_1[cont_features]\n",
    "    y1 = df_1.usage\n",
    "    linreg1 = LinearRegression().fit(X1, y1)\n",
    "\n",
    "    X2 = df_2[cont_features]\n",
    "    y2 = df_2.usage\n",
    "    linreg2 = LinearRegression().fit(X2, y2)\n",
    "\n",
    "    X3 = df_3[cont_features]\n",
    "    y3 = df_3.usage\n",
    "    linreg3 = LinearRegression().fit(X3, y3)\n",
    "\n",
    "    X4 = df_4[cont_features]\n",
    "    y4 = df_4.usage\n",
    "    linreg4 = LinearRegression().fit(X4, y4)\n",
    "\n",
    "    X5 = df_5[cont_features]\n",
    "    y5 = df_5.usage\n",
    "    linreg5 = LinearRegression().fit(X5, y5)\n",
    "\n",
    "    X6 = df_6[cont_features]\n",
    "    y6 = df_6.usage\n",
    "    linreg6 = LinearRegression().fit(X6, y6)\n",
    "\n",
    "    ydata = [linreg0.predict(X0.head(1))[0],linreg1.predict(X1.head(1))[0],linreg2.predict(X2.head(1))[0],linreg3.predict(X3.head(1))[0],linreg4.predict(X4.head(1))[0],linreg5.predict(X5.head(1))[0],linreg6.predict(X6.head(1))[0]]\n",
    "\n",
    "    sql = \"INSERT INTO dublinbikes.station_week_prediction (number, mon, tue, wed, thur, fri, sat, sun) VALUES ({}, {}, {}, {}, {}, {}, {}, {});\".format(station,ydata[0],ydata[1],ydata[2],ydata[3],ydata[4],ydata[5],ydata[6])\n",
    "    sql2 = \"UPDATE dublinbikes.station_week_prediction SET mon = {}, tue = {}, wed = {}, thur = {}, fri = {}, sat = {}, sun = {} WHERE (number = {});\".format(ydata[0],ydata[1],ydata[2],ydata[3],ydata[4],ydata[5],ydata[6],station)\n",
    "    try:\n",
    "        engine.execute(sql)\n",
    "    except:\n",
    "        engine.execute(sql2)\n"
   ]
  },
  {
   "cell_type": "code",
   "execution_count": null,
   "metadata": {},
   "outputs": [],
   "source": []
  },
  {
   "cell_type": "code",
   "execution_count": null,
   "metadata": {},
   "outputs": [],
   "source": []
  }
 ],
 "metadata": {
  "kernelspec": {
   "display_name": "Python 3",
   "language": "python",
   "name": "python3"
  },
  "language_info": {
   "codemirror_mode": {
    "name": "ipython",
    "version": 3
   },
   "file_extension": ".py",
   "mimetype": "text/x-python",
   "name": "python",
   "nbconvert_exporter": "python",
   "pygments_lexer": "ipython3",
   "version": "3.7.7"
  }
 },
 "nbformat": 4,
 "nbformat_minor": 4
}
